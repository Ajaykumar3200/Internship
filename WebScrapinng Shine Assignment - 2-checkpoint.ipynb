{
 "cells": [
  {
   "cell_type": "markdown",
   "id": "103ce5a0",
   "metadata": {},
   "source": [
    "# Webscraping using selenium "
   ]
  },
  {
   "cell_type": "markdown",
   "id": "78b0efb0",
   "metadata": {},
   "source": [
    "## FOR DATA ANALYST"
   ]
  },
  {
   "cell_type": "code",
   "execution_count": null,
   "id": "b722d539",
   "metadata": {},
   "outputs": [],
   "source": [
    "## Q2).Write a python programe to data for \"Data Scientist\" job position in \"Bangalore\" location\n",
    "# you have to scrape the job_title, job_location, company_name. you have to scrape first 10 jobs data.\n",
    "1). 1st get the webpage(www.shine.com).\n",
    "2). Enter \"Data scientist\" in the job title skills field and enter \"Bangalore\" in location field.\n",
    "3). Then, click on the Search button.\n",
    "4). Then, scrape the for first 10 jobs results you get.\n",
    "5). Finally, create a dataframe of the scraped data."
   ]
  },
  {
   "cell_type": "code",
   "execution_count": 1,
   "id": "131cc51e",
   "metadata": {},
   "outputs": [
    {
     "name": "stdout",
     "output_type": "stream",
     "text": [
      "Requirement already satisfied: selenium in c:\\users\\ajay kumar\\anaconda3\\lib\\site-packages (4.18.1)\n",
      "Requirement already satisfied: urllib3[socks]<3,>=1.26 in c:\\users\\ajay kumar\\anaconda3\\lib\\site-packages (from selenium) (1.26.16)\n",
      "Requirement already satisfied: trio~=0.17 in c:\\users\\ajay kumar\\anaconda3\\lib\\site-packages (from selenium) (0.24.0)\n",
      "Requirement already satisfied: trio-websocket~=0.9 in c:\\users\\ajay kumar\\anaconda3\\lib\\site-packages (from selenium) (0.11.1)\n",
      "Requirement already satisfied: certifi>=2021.10.8 in c:\\users\\ajay kumar\\anaconda3\\lib\\site-packages (from selenium) (2023.7.22)\n",
      "Requirement already satisfied: typing_extensions>=4.9.0 in c:\\users\\ajay kumar\\anaconda3\\lib\\site-packages (from selenium) (4.10.0)\n",
      "Requirement already satisfied: attrs>=20.1.0 in c:\\users\\ajay kumar\\anaconda3\\lib\\site-packages (from trio~=0.17->selenium) (22.1.0)\n",
      "Requirement already satisfied: sortedcontainers in c:\\users\\ajay kumar\\anaconda3\\lib\\site-packages (from trio~=0.17->selenium) (2.4.0)\n",
      "Requirement already satisfied: idna in c:\\users\\ajay kumar\\anaconda3\\lib\\site-packages (from trio~=0.17->selenium) (3.4)\n",
      "Requirement already satisfied: outcome in c:\\users\\ajay kumar\\anaconda3\\lib\\site-packages (from trio~=0.17->selenium) (1.3.0.post0)\n",
      "Requirement already satisfied: sniffio>=1.3.0 in c:\\users\\ajay kumar\\anaconda3\\lib\\site-packages (from trio~=0.17->selenium) (1.3.1)\n",
      "Requirement already satisfied: cffi>=1.14 in c:\\users\\ajay kumar\\anaconda3\\lib\\site-packages (from trio~=0.17->selenium) (1.15.1)\n",
      "Requirement already satisfied: wsproto>=0.14 in c:\\users\\ajay kumar\\anaconda3\\lib\\site-packages (from trio-websocket~=0.9->selenium) (1.2.0)\n",
      "Requirement already satisfied: PySocks!=1.5.7,<2.0,>=1.5.6 in c:\\users\\ajay kumar\\anaconda3\\lib\\site-packages (from urllib3[socks]<3,>=1.26->selenium) (1.7.1)\n",
      "Requirement already satisfied: pycparser in c:\\users\\ajay kumar\\anaconda3\\lib\\site-packages (from cffi>=1.14->trio~=0.17->selenium) (2.21)\n",
      "Requirement already satisfied: h11<1,>=0.9.0 in c:\\users\\ajay kumar\\anaconda3\\lib\\site-packages (from wsproto>=0.14->trio-websocket~=0.9->selenium) (0.14.0)\n"
     ]
    }
   ],
   "source": [
    "# First install selenium\n",
    "!pip install selenium"
   ]
  },
  {
   "cell_type": "markdown",
   "id": "ab59171e",
   "metadata": {},
   "source": [
    "## Import the some important libraries and webdriver"
   ]
  },
  {
   "cell_type": "code",
   "execution_count": 2,
   "id": "f0e0a925",
   "metadata": {},
   "outputs": [],
   "source": [
    "import selenium \n",
    "import pandas as pd\n",
    "from selenium import webdriver\n",
    "import warnings\n",
    "warnings.filterwarnings('ignore')\n",
    "from selenium.webdriver.common.by import By"
   ]
  },
  {
   "cell_type": "markdown",
   "id": "81848184",
   "metadata": {},
   "source": [
    "#to connect with the automated chrome browser"
   ]
  },
  {
   "cell_type": "code",
   "execution_count": 3,
   "id": "a51d6a8e",
   "metadata": {},
   "outputs": [],
   "source": [
    "# To Connect With Chrome Browser\n",
    "driver = webdriver.Chrome()"
   ]
  },
  {
   "cell_type": "code",
   "execution_count": 4,
   "id": "cf8f7b53",
   "metadata": {},
   "outputs": [],
   "source": [
    "# Opening the Shine page on automated chrome browser.\n",
    "driver.get('https://www.shine.com/')"
   ]
  },
  {
   "cell_type": "code",
   "execution_count": 11,
   "id": "30ba9400",
   "metadata": {},
   "outputs": [],
   "source": [
    "# enter the designation as required in the question\n",
    "designation = driver.find_element(By.ID,'id_q')\n",
    "designation.send_keys('Data Analyst')"
   ]
  },
  {
   "cell_type": "code",
   "execution_count": 12,
   "id": "fdc0a841",
   "metadata": {},
   "outputs": [],
   "source": [
    "# here is the location of the job\n",
    "loc = driver.find_element(By.XPATH,'/html/body/div/div[4]/div/div[2]/div[2]/div/form/div/div[1]/ul/li[2]/div/input')\n",
    "loc.send_keys('Bangalore')"
   ]
  },
  {
   "cell_type": "code",
   "execution_count": 28,
   "id": "98598ef6",
   "metadata": {},
   "outputs": [],
   "source": [
    "# Click on search button\n",
    "search = driver.find_element(By.XPATH,'/html/body/div/div[4]/div/div[2]/div[2]/div/form/div/div[2]/div/button')\n",
    "search.click()"
   ]
  },
  {
   "cell_type": "code",
   "execution_count": 39,
   "id": "ae44c2bb",
   "metadata": {},
   "outputs": [],
   "source": [
    "# making list\n",
    "job_titles = []\n",
    "job_location = []\n",
    "company_name = []\n",
    "experience_required = []"
   ]
  },
  {
   "cell_type": "code",
   "execution_count": 40,
   "id": "a1120f1c",
   "metadata": {},
   "outputs": [],
   "source": [
    "# scraping job title from the given page.\n",
    "title_tags = driver.find_elements(By.XPATH,'//strong[@class=\"jobCard_pReplaceH2__xWmHg\"]/a')\n",
    "for i in title_tags[0:10]:\n",
    "    title=i.text\n",
    "    job_titles.append(title)\n",
    "    \n",
    "#scraping job location from the given page.\n",
    "location_tags=driver.find_elements(By.XPATH,'//div[@class=\" jobCard_jobCard_lists_item__YxRkV jobCard_locationIcon__zrWt2\"]')\n",
    "for i in location_tags[0:10]:\n",
    "    location=i.text\n",
    "    job_location.append(location)\n",
    "    \n",
    "# scraping company name from th given page.\n",
    "company_tags=driver.find_elements(By.XPATH,'//div[@class=\"jobCard_jobCard_cName__mYnow\"]')\n",
    "for i in company_tags[0:10]:\n",
    "    company=i.text\n",
    "    company_name.append(company)\n",
    "    \n",
    "# scraping experience data from the given page.\n",
    "experience_tags=driver.find_elements(By.XPATH,'//div[@class=\" jobCard_jobCard_lists_item__YxRkV jobCard_jobIcon__3FB1t\"]')\n",
    "for i in experience_tags[0:10]:\n",
    "    exp = i.text\n",
    "    experience_required.append(exp)"
   ]
  },
  {
   "cell_type": "code",
   "execution_count": 41,
   "id": "b1aa466a",
   "metadata": {},
   "outputs": [
    {
     "name": "stdout",
     "output_type": "stream",
     "text": [
      "10 10 10 10\n"
     ]
    }
   ],
   "source": [
    "# As mention in the question that I have to scrape data only for first 10 job results. \n",
    "print(len(job_titles),len(job_location),len(company_name),len(experience_required))"
   ]
  },
  {
   "cell_type": "code",
   "execution_count": 42,
   "id": "8fa0489c",
   "metadata": {},
   "outputs": [
    {
     "data": {
      "text/html": [
       "<div>\n",
       "<style scoped>\n",
       "    .dataframe tbody tr th:only-of-type {\n",
       "        vertical-align: middle;\n",
       "    }\n",
       "\n",
       "    .dataframe tbody tr th {\n",
       "        vertical-align: top;\n",
       "    }\n",
       "\n",
       "    .dataframe thead th {\n",
       "        text-align: right;\n",
       "    }\n",
       "</style>\n",
       "<table border=\"1\" class=\"dataframe\">\n",
       "  <thead>\n",
       "    <tr style=\"text-align: right;\">\n",
       "      <th></th>\n",
       "      <th>Title</th>\n",
       "      <th>Loation</th>\n",
       "      <th>Company</th>\n",
       "      <th>Experience</th>\n",
       "    </tr>\n",
       "  </thead>\n",
       "  <tbody>\n",
       "    <tr>\n",
       "      <th>0</th>\n",
       "      <td>Data Analyst , Senior Data Analyst , Data Anal...</td>\n",
       "      <td>Bangalore\\n+8</td>\n",
       "      <td>appsoft solutions</td>\n",
       "      <td>0 to 4 Yrs</td>\n",
       "    </tr>\n",
       "    <tr>\n",
       "      <th>1</th>\n",
       "      <td>Data Analyst (Power BI, Python, SQL)- Internal...</td>\n",
       "      <td>Bangalore</td>\n",
       "      <td>talent leads hr solutions pvt ltd</td>\n",
       "      <td>3 to 8 Yrs</td>\n",
       "    </tr>\n",
       "    <tr>\n",
       "      <th>2</th>\n",
       "      <td>Clinical Data Analyst</td>\n",
       "      <td>Bangalore\\n+6</td>\n",
       "      <td>techno endura</td>\n",
       "      <td>0 to 1 Yr</td>\n",
       "    </tr>\n",
       "    <tr>\n",
       "      <th>3</th>\n",
       "      <td>Data Analyst</td>\n",
       "      <td>Bangalore\\n+9</td>\n",
       "      <td>sahast sales corporation</td>\n",
       "      <td>12 to 22 Yrs</td>\n",
       "    </tr>\n",
       "    <tr>\n",
       "      <th>4</th>\n",
       "      <td>Data Analyst Fresher and Experience Vacancy</td>\n",
       "      <td>Bangalore\\n+12</td>\n",
       "      <td>radhika enterprises</td>\n",
       "      <td>0 to 4 Yrs</td>\n",
       "    </tr>\n",
       "    <tr>\n",
       "      <th>5</th>\n",
       "      <td>Data Analyst Opening</td>\n",
       "      <td>Bangalore\\n+12</td>\n",
       "      <td>radhika enterprises</td>\n",
       "      <td>0 to 4 Yrs</td>\n",
       "    </tr>\n",
       "    <tr>\n",
       "      <th>6</th>\n",
       "      <td>Clinical Data Analyst</td>\n",
       "      <td>Bangalore\\n+6</td>\n",
       "      <td>techno endura</td>\n",
       "      <td>0 to 1 Yr</td>\n",
       "    </tr>\n",
       "    <tr>\n",
       "      <th>7</th>\n",
       "      <td>Clinical Data Analyst</td>\n",
       "      <td>Bangalore\\n+6</td>\n",
       "      <td>techno endura</td>\n",
       "      <td>0 to 1 Yr</td>\n",
       "    </tr>\n",
       "    <tr>\n",
       "      <th>8</th>\n",
       "      <td>Data Analyst Recruitment</td>\n",
       "      <td>Bangalore\\n+12</td>\n",
       "      <td>radhika enterprises</td>\n",
       "      <td>0 to 4 Yrs</td>\n",
       "    </tr>\n",
       "    <tr>\n",
       "      <th>9</th>\n",
       "      <td>Data Analyst Recruitment</td>\n",
       "      <td>Bangalore\\n+12</td>\n",
       "      <td>radhika enterprises</td>\n",
       "      <td>0 to 4 Yrs</td>\n",
       "    </tr>\n",
       "  </tbody>\n",
       "</table>\n",
       "</div>"
      ],
      "text/plain": [
       "                                               Title         Loation  \\\n",
       "0  Data Analyst , Senior Data Analyst , Data Anal...   Bangalore\\n+8   \n",
       "1  Data Analyst (Power BI, Python, SQL)- Internal...       Bangalore   \n",
       "2                              Clinical Data Analyst   Bangalore\\n+6   \n",
       "3                                       Data Analyst   Bangalore\\n+9   \n",
       "4        Data Analyst Fresher and Experience Vacancy  Bangalore\\n+12   \n",
       "5                               Data Analyst Opening  Bangalore\\n+12   \n",
       "6                              Clinical Data Analyst   Bangalore\\n+6   \n",
       "7                              Clinical Data Analyst   Bangalore\\n+6   \n",
       "8                           Data Analyst Recruitment  Bangalore\\n+12   \n",
       "9                           Data Analyst Recruitment  Bangalore\\n+12   \n",
       "\n",
       "                             Company    Experience  \n",
       "0                  appsoft solutions    0 to 4 Yrs  \n",
       "1  talent leads hr solutions pvt ltd    3 to 8 Yrs  \n",
       "2                      techno endura     0 to 1 Yr  \n",
       "3           sahast sales corporation  12 to 22 Yrs  \n",
       "4                radhika enterprises    0 to 4 Yrs  \n",
       "5                radhika enterprises    0 to 4 Yrs  \n",
       "6                      techno endura     0 to 1 Yr  \n",
       "7                      techno endura     0 to 1 Yr  \n",
       "8                radhika enterprises    0 to 4 Yrs  \n",
       "9                radhika enterprises    0 to 4 Yrs  "
      ]
     },
     "execution_count": 42,
     "metadata": {},
     "output_type": "execute_result"
    }
   ],
   "source": [
    "# making of dataframe\n",
    "import pandas as pd\n",
    "df = pd.DataFrame({'Title':job_titles,'Loation':job_location,'Company':company_name,'Experience':experience_required})\n",
    "df"
   ]
  },
  {
   "cell_type": "markdown",
   "id": "679f5900",
   "metadata": {},
   "source": [
    "## FOR DATA SCIENTIST"
   ]
  },
  {
   "cell_type": "code",
   "execution_count": null,
   "id": "09e1ef50",
   "metadata": {},
   "outputs": [],
   "source": [
    "## Q2).Write a python programe to data for \"Data Scientist\" job position in \"Bangalore\" location\n",
    "# you have to scrape the job_title, job_location, company_name. you have to scrape first 10 jobs data.\n",
    "1). 1st get the webpage(www.shine.com).\n",
    "2). Enter \"Data scientist\" in the job title skills field and enter \"Bangalore\" in location field.\n",
    "3). Then, click on the Search button.\n",
    "4). Then, scrape the for first 10 jobs results you get.\n",
    "5). Finally, create a dataframe of the scraped data."
   ]
  },
  {
   "cell_type": "code",
   "execution_count": 4,
   "id": "8a8f6fd9",
   "metadata": {},
   "outputs": [
    {
     "name": "stdout",
     "output_type": "stream",
     "text": [
      "Requirement already satisfied: selenium in c:\\users\\ajay kumar\\anaconda3\\lib\\site-packages (4.18.1)\n",
      "Requirement already satisfied: urllib3[socks]<3,>=1.26 in c:\\users\\ajay kumar\\anaconda3\\lib\\site-packages (from selenium) (1.26.16)\n",
      "Requirement already satisfied: trio~=0.17 in c:\\users\\ajay kumar\\anaconda3\\lib\\site-packages (from selenium) (0.24.0)\n",
      "Requirement already satisfied: trio-websocket~=0.9 in c:\\users\\ajay kumar\\anaconda3\\lib\\site-packages (from selenium) (0.11.1)\n",
      "Requirement already satisfied: certifi>=2021.10.8 in c:\\users\\ajay kumar\\anaconda3\\lib\\site-packages (from selenium) (2023.7.22)\n",
      "Requirement already satisfied: typing_extensions>=4.9.0 in c:\\users\\ajay kumar\\anaconda3\\lib\\site-packages (from selenium) (4.10.0)\n",
      "Requirement already satisfied: attrs>=20.1.0 in c:\\users\\ajay kumar\\anaconda3\\lib\\site-packages (from trio~=0.17->selenium) (22.1.0)\n",
      "Requirement already satisfied: sortedcontainers in c:\\users\\ajay kumar\\anaconda3\\lib\\site-packages (from trio~=0.17->selenium) (2.4.0)\n",
      "Requirement already satisfied: idna in c:\\users\\ajay kumar\\anaconda3\\lib\\site-packages (from trio~=0.17->selenium) (3.4)\n",
      "Requirement already satisfied: outcome in c:\\users\\ajay kumar\\anaconda3\\lib\\site-packages (from trio~=0.17->selenium) (1.3.0.post0)\n",
      "Requirement already satisfied: sniffio>=1.3.0 in c:\\users\\ajay kumar\\anaconda3\\lib\\site-packages (from trio~=0.17->selenium) (1.3.1)\n",
      "Requirement already satisfied: cffi>=1.14 in c:\\users\\ajay kumar\\anaconda3\\lib\\site-packages (from trio~=0.17->selenium) (1.15.1)\n",
      "Requirement already satisfied: wsproto>=0.14 in c:\\users\\ajay kumar\\anaconda3\\lib\\site-packages (from trio-websocket~=0.9->selenium) (1.2.0)\n",
      "Requirement already satisfied: PySocks!=1.5.7,<2.0,>=1.5.6 in c:\\users\\ajay kumar\\anaconda3\\lib\\site-packages (from urllib3[socks]<3,>=1.26->selenium) (1.7.1)\n",
      "Requirement already satisfied: pycparser in c:\\users\\ajay kumar\\anaconda3\\lib\\site-packages (from cffi>=1.14->trio~=0.17->selenium) (2.21)\n",
      "Requirement already satisfied: h11<1,>=0.9.0 in c:\\users\\ajay kumar\\anaconda3\\lib\\site-packages (from wsproto>=0.14->trio-websocket~=0.9->selenium) (0.14.0)\n"
     ]
    }
   ],
   "source": [
    "!pip install selenium"
   ]
  },
  {
   "cell_type": "code",
   "execution_count": 5,
   "id": "5801ef8b",
   "metadata": {},
   "outputs": [],
   "source": [
    "# Import the some important libraries and webdriver\n",
    "import selenium\n",
    "import pandas as pd\n",
    "from selenium import webdriver\n",
    "import warnings\n",
    "warnings.filterwarnings('ignore')\n",
    "from selenium.webdriver.common.by import By"
   ]
  },
  {
   "cell_type": "code",
   "execution_count": 7,
   "id": "95761ff0",
   "metadata": {},
   "outputs": [],
   "source": [
    "# Opening the shine page with automated chrome webdriver.\n",
    "driver = webdriver.Chrome()"
   ]
  },
  {
   "cell_type": "code",
   "execution_count": 20,
   "id": "08152c21",
   "metadata": {},
   "outputs": [],
   "source": [
    "driver.get('https://www.shine.com/')"
   ]
  },
  {
   "cell_type": "code",
   "execution_count": 25,
   "id": "0bbcb5a7",
   "metadata": {},
   "outputs": [],
   "source": [
    "# Enter the designation as required in the question.\n",
    "designation = driver.find_element(By.ID,'id_q')\n",
    "designation.send_keys('Data scientist')"
   ]
  },
  {
   "cell_type": "code",
   "execution_count": 26,
   "id": "72ad910f",
   "metadata": {},
   "outputs": [],
   "source": [
    "# Here is the location of the job.\n",
    "location = driver.find_element(By.XPATH,'/html/body/div/div[4]/div/div[2]/div[2]/div[1]/form/div/div[1]/ul/li[2]/div/input')\n",
    "location.send_keys('Bangalore')"
   ]
  },
  {
   "cell_type": "code",
   "execution_count": 27,
   "id": "31d1a559",
   "metadata": {},
   "outputs": [],
   "source": [
    "# To click on the search button as given on the webpage.\n",
    "search = driver.find_element(By.XPATH,'/html/body/div/div[4]/div/div[2]/div[2]/div[1]/form/div/div[2]/div/button')\n",
    "search.click()"
   ]
  },
  {
   "cell_type": "code",
   "execution_count": 28,
   "id": "c3caf065",
   "metadata": {},
   "outputs": [],
   "source": [
    "# To Make the empty list \n",
    "job_titles = []\n",
    "job_location = []\n",
    "company_name = []\n",
    "experience_required = []"
   ]
  },
  {
   "cell_type": "code",
   "execution_count": 29,
   "id": "ac17e351",
   "metadata": {},
   "outputs": [],
   "source": [
    "# Scrape the job title from the given page.\n",
    "title_tags = driver.find_elements(By.XPATH,'//strong[@class=\"jobCard_pReplaceH2__xWmHg\"]/a')\n",
    "for i in title_tags[0:10]:\n",
    "    title = i.text\n",
    "    job_titles.append(title)\n",
    "    \n",
    "# Scrape the job location from the given page.\n",
    "location_tags = driver.find_elements(By.XPATH,'//div[@class=\" jobCard_jobCard_lists_item__YxRkV jobCard_locationIcon__zrWt2\"]')\n",
    "for i in location_tags[0:10]:\n",
    "    location = i.text\n",
    "    job_location.append(location)\n",
    "    \n",
    "# Scrape the company name from the given page.\n",
    "company_tags = driver.find_elements(By.XPATH,'//div[@class=\"jobCard_jobCard_cName__mYnow\"]/span')\n",
    "for i in company_tags[0:10]:\n",
    "    company = i.text\n",
    "    company_name.append(company)\n",
    "    \n",
    "# Scrape the experience from the given page.\n",
    "experience_tags = driver.find_elements(By.XPATH,'//div[@class=\" jobCard_jobCard_lists_item__YxRkV jobCard_jobIcon__3FB1t\"]')\n",
    "for i in experience_tags[0:10]:\n",
    "    exp = i.text\n",
    "    experience_required.append(exp)"
   ]
  },
  {
   "cell_type": "code",
   "execution_count": 31,
   "id": "3e34176a",
   "metadata": {},
   "outputs": [
    {
     "name": "stdout",
     "output_type": "stream",
     "text": [
      "10 10 10 10\n"
     ]
    }
   ],
   "source": [
    "# Now we have the scrapped data first 10 jobs only.\n",
    "print(len(job_titles),len(job_location),len(company_name),len(experience_required))"
   ]
  },
  {
   "cell_type": "code",
   "execution_count": 32,
   "id": "945c6327",
   "metadata": {},
   "outputs": [
    {
     "data": {
      "text/html": [
       "<div>\n",
       "<style scoped>\n",
       "    .dataframe tbody tr th:only-of-type {\n",
       "        vertical-align: middle;\n",
       "    }\n",
       "\n",
       "    .dataframe tbody tr th {\n",
       "        vertical-align: top;\n",
       "    }\n",
       "\n",
       "    .dataframe thead th {\n",
       "        text-align: right;\n",
       "    }\n",
       "</style>\n",
       "<table border=\"1\" class=\"dataframe\">\n",
       "  <thead>\n",
       "    <tr style=\"text-align: right;\">\n",
       "      <th></th>\n",
       "      <th>Title</th>\n",
       "      <th>Location</th>\n",
       "      <th>Company</th>\n",
       "      <th>experience</th>\n",
       "    </tr>\n",
       "  </thead>\n",
       "  <tbody>\n",
       "    <tr>\n",
       "      <th>0</th>\n",
       "      <td>Data Scientist</td>\n",
       "      <td>Bangalore\\n+4</td>\n",
       "      <td>alike thoughts solutions private li...</td>\n",
       "      <td>5 to 10 Yrs</td>\n",
       "    </tr>\n",
       "    <tr>\n",
       "      <th>1</th>\n",
       "      <td>Data Scientist</td>\n",
       "      <td>Bangalore</td>\n",
       "      <td>unified excellence llp</td>\n",
       "      <td>4 to 8 Yrs</td>\n",
       "    </tr>\n",
       "    <tr>\n",
       "      <th>2</th>\n",
       "      <td>Data Scientist</td>\n",
       "      <td>Bangalore</td>\n",
       "      <td>unified excellence llp</td>\n",
       "      <td>4 to 8 Yrs</td>\n",
       "    </tr>\n",
       "    <tr>\n",
       "      <th>3</th>\n",
       "      <td>Data Scientist Opening</td>\n",
       "      <td>Bangalore\\n+13</td>\n",
       "      <td>divya staffing solution</td>\n",
       "      <td>0 to 4 Yrs</td>\n",
       "    </tr>\n",
       "    <tr>\n",
       "      <th>4</th>\n",
       "      <td>Data Scientist Urgent Recruitment</td>\n",
       "      <td>Bangalore\\n+13</td>\n",
       "      <td>divya staffing solution</td>\n",
       "      <td>0 to 4 Yrs</td>\n",
       "    </tr>\n",
       "    <tr>\n",
       "      <th>5</th>\n",
       "      <td>Data Scientist Recruitment</td>\n",
       "      <td>Bangalore\\n+12</td>\n",
       "      <td>radhika enterprises</td>\n",
       "      <td>0 to 4 Yrs</td>\n",
       "    </tr>\n",
       "    <tr>\n",
       "      <th>6</th>\n",
       "      <td>Data Scientist Opening</td>\n",
       "      <td>Bangalore\\n+12</td>\n",
       "      <td>radhika enterprises</td>\n",
       "      <td>0 to 4 Yrs</td>\n",
       "    </tr>\n",
       "    <tr>\n",
       "      <th>7</th>\n",
       "      <td>Data Scientist Vacancy</td>\n",
       "      <td>Bangalore\\n+13</td>\n",
       "      <td>divya staffing solution</td>\n",
       "      <td>0 to 4 Yrs</td>\n",
       "    </tr>\n",
       "    <tr>\n",
       "      <th>8</th>\n",
       "      <td>Hiring For Data Scientist</td>\n",
       "      <td>Bangalore\\n+13</td>\n",
       "      <td>divya staffing solution</td>\n",
       "      <td>0 to 4 Yrs</td>\n",
       "    </tr>\n",
       "    <tr>\n",
       "      <th>9</th>\n",
       "      <td>Data Scientist Opening</td>\n",
       "      <td>Bangalore\\n+15</td>\n",
       "      <td>renuka interprises</td>\n",
       "      <td>0 to 4 Yrs</td>\n",
       "    </tr>\n",
       "  </tbody>\n",
       "</table>\n",
       "</div>"
      ],
      "text/plain": [
       "                               Title        Location  \\\n",
       "0                     Data Scientist   Bangalore\\n+4   \n",
       "1                     Data Scientist       Bangalore   \n",
       "2                     Data Scientist       Bangalore   \n",
       "3             Data Scientist Opening  Bangalore\\n+13   \n",
       "4  Data Scientist Urgent Recruitment  Bangalore\\n+13   \n",
       "5         Data Scientist Recruitment  Bangalore\\n+12   \n",
       "6             Data Scientist Opening  Bangalore\\n+12   \n",
       "7             Data Scientist Vacancy  Bangalore\\n+13   \n",
       "8          Hiring For Data Scientist  Bangalore\\n+13   \n",
       "9             Data Scientist Opening  Bangalore\\n+15   \n",
       "\n",
       "                                  Company   experience  \n",
       "0  alike thoughts solutions private li...  5 to 10 Yrs  \n",
       "1                  unified excellence llp   4 to 8 Yrs  \n",
       "2                  unified excellence llp   4 to 8 Yrs  \n",
       "3                 divya staffing solution   0 to 4 Yrs  \n",
       "4                 divya staffing solution   0 to 4 Yrs  \n",
       "5                     radhika enterprises   0 to 4 Yrs  \n",
       "6                     radhika enterprises   0 to 4 Yrs  \n",
       "7                 divya staffing solution   0 to 4 Yrs  \n",
       "8                 divya staffing solution   0 to 4 Yrs  \n",
       "9                      renuka interprises   0 to 4 Yrs  "
      ]
     },
     "execution_count": 32,
     "metadata": {},
     "output_type": "execute_result"
    }
   ],
   "source": [
    "# To make the data frame first import pandas libraries\n",
    "import pandas as pd\n",
    "df = pd.DataFrame({'Title':job_titles,'Location':job_location,'Company':company_name,'experience':experience_required})\n",
    "df"
   ]
  },
  {
   "cell_type": "code",
   "execution_count": null,
   "id": "917cba14",
   "metadata": {},
   "outputs": [],
   "source": []
  }
 ],
 "metadata": {
  "kernelspec": {
   "display_name": "Python 3 (ipykernel)",
   "language": "python",
   "name": "python3"
  },
  "language_info": {
   "codemirror_mode": {
    "name": "ipython",
    "version": 3
   },
   "file_extension": ".py",
   "mimetype": "text/x-python",
   "name": "python",
   "nbconvert_exporter": "python",
   "pygments_lexer": "ipython3",
   "version": "3.11.5"
  }
 },
 "nbformat": 4,
 "nbformat_minor": 5
}
