{
 "cells": [
  {
   "cell_type": "code",
   "execution_count": 1,
   "id": "e9b34e6b",
   "metadata": {},
   "outputs": [
    {
     "name": "stdout",
     "output_type": "stream",
     "text": [
      "Requirement already satisfied: selenium in c:\\users\\ajay kumar\\anaconda3\\lib\\site-packages (4.18.1)\n",
      "Requirement already satisfied: urllib3[socks]<3,>=1.26 in c:\\users\\ajay kumar\\anaconda3\\lib\\site-packages (from selenium) (1.26.16)\n",
      "Requirement already satisfied: trio~=0.17 in c:\\users\\ajay kumar\\anaconda3\\lib\\site-packages (from selenium) (0.24.0)\n",
      "Requirement already satisfied: trio-websocket~=0.9 in c:\\users\\ajay kumar\\anaconda3\\lib\\site-packages (from selenium) (0.11.1)\n",
      "Requirement already satisfied: certifi>=2021.10.8 in c:\\users\\ajay kumar\\anaconda3\\lib\\site-packages (from selenium) (2023.7.22)\n",
      "Requirement already satisfied: typing_extensions>=4.9.0 in c:\\users\\ajay kumar\\anaconda3\\lib\\site-packages (from selenium) (4.10.0)\n",
      "Requirement already satisfied: attrs>=20.1.0 in c:\\users\\ajay kumar\\anaconda3\\lib\\site-packages (from trio~=0.17->selenium) (22.1.0)\n",
      "Requirement already satisfied: sortedcontainers in c:\\users\\ajay kumar\\anaconda3\\lib\\site-packages (from trio~=0.17->selenium) (2.4.0)\n",
      "Requirement already satisfied: idna in c:\\users\\ajay kumar\\anaconda3\\lib\\site-packages (from trio~=0.17->selenium) (3.4)\n",
      "Requirement already satisfied: outcome in c:\\users\\ajay kumar\\anaconda3\\lib\\site-packages (from trio~=0.17->selenium) (1.3.0.post0)\n",
      "Requirement already satisfied: sniffio>=1.3.0 in c:\\users\\ajay kumar\\anaconda3\\lib\\site-packages (from trio~=0.17->selenium) (1.3.1)\n",
      "Requirement already satisfied: cffi>=1.14 in c:\\users\\ajay kumar\\anaconda3\\lib\\site-packages (from trio~=0.17->selenium) (1.15.1)\n",
      "Requirement already satisfied: wsproto>=0.14 in c:\\users\\ajay kumar\\anaconda3\\lib\\site-packages (from trio-websocket~=0.9->selenium) (1.2.0)\n",
      "Requirement already satisfied: PySocks!=1.5.7,<2.0,>=1.5.6 in c:\\users\\ajay kumar\\anaconda3\\lib\\site-packages (from urllib3[socks]<3,>=1.26->selenium) (1.7.1)\n",
      "Requirement already satisfied: pycparser in c:\\users\\ajay kumar\\anaconda3\\lib\\site-packages (from cffi>=1.14->trio~=0.17->selenium) (2.21)\n",
      "Requirement already satisfied: h11<1,>=0.9.0 in c:\\users\\ajay kumar\\anaconda3\\lib\\site-packages (from wsproto>=0.14->trio-websocket~=0.9->selenium) (0.14.0)\n"
     ]
    }
   ],
   "source": [
    "!pip install selenium"
   ]
  },
  {
   "cell_type": "code",
   "execution_count": 2,
   "id": "2a7d1613",
   "metadata": {},
   "outputs": [],
   "source": [
    "import selenium\n",
    "import pandas as pd\n",
    "from selenium import webdriver\n",
    "import warnings\n",
    "warnings.filterwarnings('ignore')\n",
    "from selenium.webdriver.common.by import By\n",
    "import time"
   ]
  },
  {
   "cell_type": "code",
   "execution_count": 3,
   "id": "3be0df9a",
   "metadata": {},
   "outputs": [],
   "source": [
    "driver=webdriver.Chrome()"
   ]
  },
  {
   "cell_type": "code",
   "execution_count": 4,
   "id": "df2a07fb",
   "metadata": {},
   "outputs": [],
   "source": [
    "# Opening the naukri page on automated chrome browser\n",
    "driver.get('https://www.naukri.com/')"
   ]
  },
  {
   "cell_type": "code",
   "execution_count": 5,
   "id": "06a40ecb",
   "metadata": {},
   "outputs": [],
   "source": [
    "# Entering the designation and location as required in the question\n",
    "designation=driver.find_element(By.CLASS_NAME,'suggestor-input ')\n",
    "designation.send_keys('Data scientist')"
   ]
  },
  {
   "cell_type": "code",
   "execution_count": 6,
   "id": "e6f36e0d",
   "metadata": {},
   "outputs": [],
   "source": [
    "location=driver.find_element(By.XPATH,'/html/body/div[1]/div[6]/div/div/div[5]/div/div/div/div[1]/div/input')\n",
    "location.send_keys('Bangalore')"
   ]
  },
  {
   "cell_type": "code",
   "execution_count": 7,
   "id": "1e09a142",
   "metadata": {},
   "outputs": [],
   "source": [
    "search=driver.find_element(By.CLASS_NAME,'qsbSubmit')\n",
    "search.click()"
   ]
  },
  {
   "cell_type": "code",
   "execution_count": 8,
   "id": "673cd9ba",
   "metadata": {},
   "outputs": [],
   "source": [
    "job_title=[]\n",
    "job_location=[]\n",
    "company_name=[]\n",
    "experience_required=[]"
   ]
  },
  {
   "cell_type": "code",
   "execution_count": 9,
   "id": "d505476e",
   "metadata": {},
   "outputs": [],
   "source": [
    "#Scraping job title from the given page;\n",
    "title_tags=driver.find_elements(By.XPATH,'//div[@class=\"cust-job-tuple layout-wrapper lay-2 sjw__tuple \"]/div/a')\n",
    "for i in title_tags:\n",
    "    title=i.text\n",
    "    job_title.append(title)\n",
    "    \n",
    "#Scraping job location from the given page;\n",
    "location_tags=driver.find_elements(By.XPATH,'//span[@class=\"ni-job-tuple-icon ni-job-tuple-icon-srp-location loc\"]')\n",
    "for i in location_tags:\n",
    "    location=i.text\n",
    "    job_location.append(location)\n",
    "    \n",
    "#Scraping company name from the given page;\n",
    "company_tags=driver.find_elements(By.XPATH,'//span[@class=\" comp-dtls-wrap\"]/a[1]')\n",
    "for i in company_tags:\n",
    "    company=i.text\n",
    "    company_name.append(company)\n",
    "    \n",
    "#Scraping experience required from the given page;\n",
    "experience_tags=driver.find_elements(By.XPATH,'//span[@class=\"ni-job-tuple-icon ni-job-tuple-icon-srp-experience exp\"]')\n",
    "for i in experience_tags:\n",
    "    exp=i.text\n",
    "    experience_required.append(exp)"
   ]
  },
  {
   "cell_type": "code",
   "execution_count": 10,
   "id": "1dc43d68",
   "metadata": {},
   "outputs": [
    {
     "name": "stdout",
     "output_type": "stream",
     "text": [
      "20 20 20 20\n"
     ]
    }
   ],
   "source": [
    "print(len(job_title),len(job_location),len(company_name),len(experience_required))"
   ]
  },
  {
   "cell_type": "code",
   "execution_count": 11,
   "id": "c3df8639",
   "metadata": {},
   "outputs": [
    {
     "data": {
      "text/html": [
       "<div>\n",
       "<style scoped>\n",
       "    .dataframe tbody tr th:only-of-type {\n",
       "        vertical-align: middle;\n",
       "    }\n",
       "\n",
       "    .dataframe tbody tr th {\n",
       "        vertical-align: top;\n",
       "    }\n",
       "\n",
       "    .dataframe thead th {\n",
       "        text-align: right;\n",
       "    }\n",
       "</style>\n",
       "<table border=\"1\" class=\"dataframe\">\n",
       "  <thead>\n",
       "    <tr style=\"text-align: right;\">\n",
       "      <th></th>\n",
       "      <th>Title</th>\n",
       "      <th>Location</th>\n",
       "      <th>company_name</th>\n",
       "      <th>Experience</th>\n",
       "    </tr>\n",
       "  </thead>\n",
       "  <tbody>\n",
       "    <tr>\n",
       "      <th>0</th>\n",
       "      <td>Data Scientist-Senior Associate - P&amp;T Labs</td>\n",
       "      <td>Mumbai, Hyderabad, Bengaluru</td>\n",
       "      <td>PwC Service Delivery Center</td>\n",
       "      <td>4-6 Yrs</td>\n",
       "    </tr>\n",
       "    <tr>\n",
       "      <th>1</th>\n",
       "      <td>Senior Data Scientist, Reporting</td>\n",
       "      <td>Bangalore/Bengaluru, Kolkata, Mumbai, New Delh...</td>\n",
       "      <td>Coursera</td>\n",
       "      <td>6-7 Yrs</td>\n",
       "    </tr>\n",
       "    <tr>\n",
       "      <th>2</th>\n",
       "      <td>Data Scientist, Marketing</td>\n",
       "      <td>Bangalore/Bengaluru, Kolkata, Mumbai, New Delh...</td>\n",
       "      <td>Coursera</td>\n",
       "      <td>4-6 Yrs</td>\n",
       "    </tr>\n",
       "    <tr>\n",
       "      <th>3</th>\n",
       "      <td>Sr. Data Scientist</td>\n",
       "      <td>Bengaluru</td>\n",
       "      <td>Visa Inc</td>\n",
       "      <td>0-3 Yrs</td>\n",
       "    </tr>\n",
       "    <tr>\n",
       "      <th>4</th>\n",
       "      <td>Data Scientist</td>\n",
       "      <td>Kolkata, Mumbai, New Delhi, Hyderabad, Pune, C...</td>\n",
       "      <td>Ford</td>\n",
       "      <td>3-6 Yrs</td>\n",
       "    </tr>\n",
       "    <tr>\n",
       "      <th>5</th>\n",
       "      <td>AI Data Scientist</td>\n",
       "      <td>Kolkata, Mumbai, New Delhi, Hyderabad, Pune, C...</td>\n",
       "      <td>Ford</td>\n",
       "      <td>2-6 Yrs</td>\n",
       "    </tr>\n",
       "    <tr>\n",
       "      <th>6</th>\n",
       "      <td>GenAI Data Scientist</td>\n",
       "      <td>Kolkata, Mumbai, New Delhi, Hyderabad, Pune, C...</td>\n",
       "      <td>Ford</td>\n",
       "      <td>5-6 Yrs</td>\n",
       "    </tr>\n",
       "    <tr>\n",
       "      <th>7</th>\n",
       "      <td>Data Scientist HTHD</td>\n",
       "      <td>Kolkata, Mumbai, New Delhi, Hyderabad, Pune, C...</td>\n",
       "      <td>Ford</td>\n",
       "      <td>1-4 Yrs</td>\n",
       "    </tr>\n",
       "    <tr>\n",
       "      <th>8</th>\n",
       "      <td>Data Scientist III</td>\n",
       "      <td>Bengaluru</td>\n",
       "      <td>Walmart</td>\n",
       "      <td>1-6 Yrs</td>\n",
       "    </tr>\n",
       "    <tr>\n",
       "      <th>9</th>\n",
       "      <td>Xoriant is hiring Senior Generative AI Engineer !</td>\n",
       "      <td>Hybrid - Bangalore Rural, Karnataka, Pune, Mah...</td>\n",
       "      <td>Xoriant</td>\n",
       "      <td>5-10 Yrs</td>\n",
       "    </tr>\n",
       "    <tr>\n",
       "      <th>10</th>\n",
       "      <td>Data Scientist</td>\n",
       "      <td>Hybrid - Bengaluru, Karnataka</td>\n",
       "      <td>Acuity Knowledge Partners</td>\n",
       "      <td>4-8 Yrs</td>\n",
       "    </tr>\n",
       "    <tr>\n",
       "      <th>11</th>\n",
       "      <td>Data Scientist (Analytic Engineer)</td>\n",
       "      <td>Bengaluru</td>\n",
       "      <td>Applied Materials</td>\n",
       "      <td>7-10 Yrs</td>\n",
       "    </tr>\n",
       "    <tr>\n",
       "      <th>12</th>\n",
       "      <td>Data Scientist</td>\n",
       "      <td>Bengaluru</td>\n",
       "      <td>Johnson and Johnson Kenvue</td>\n",
       "      <td>3-7 Yrs</td>\n",
       "    </tr>\n",
       "    <tr>\n",
       "      <th>13</th>\n",
       "      <td>Data Scientist @ Nttdata, Bangalore</td>\n",
       "      <td>Bangalore Rural, Karnataka</td>\n",
       "      <td>NTT DATA BUSINESS SOLUTIONS</td>\n",
       "      <td>4-6 Yrs</td>\n",
       "    </tr>\n",
       "    <tr>\n",
       "      <th>14</th>\n",
       "      <td>Lead Data Scientist</td>\n",
       "      <td>Bengaluru</td>\n",
       "      <td>Atkinsréalis</td>\n",
       "      <td>4-8 Yrs</td>\n",
       "    </tr>\n",
       "    <tr>\n",
       "      <th>15</th>\n",
       "      <td>Data Scientist-</td>\n",
       "      <td>Bengaluru</td>\n",
       "      <td>Visa Inc</td>\n",
       "      <td>3-7 Yrs</td>\n",
       "    </tr>\n",
       "    <tr>\n",
       "      <th>16</th>\n",
       "      <td>Data Scientist</td>\n",
       "      <td>Kolkata, Mumbai, New Delhi, Hyderabad, Pune, C...</td>\n",
       "      <td>Response Informatics</td>\n",
       "      <td>8-9 Yrs</td>\n",
       "    </tr>\n",
       "    <tr>\n",
       "      <th>17</th>\n",
       "      <td>NLP Data Scientist - Real World Data (RWD)</td>\n",
       "      <td>Bangalore/Bengaluru, Kolkata, Mumbai, New Delh...</td>\n",
       "      <td>Agilite Global Solutions</td>\n",
       "      <td>7-8 Yrs</td>\n",
       "    </tr>\n",
       "    <tr>\n",
       "      <th>18</th>\n",
       "      <td>Data Analytics-Corporate HR</td>\n",
       "      <td>Bangalore/Bengaluru, Kolkata, Mumbai, New Delh...</td>\n",
       "      <td>Tata Communications</td>\n",
       "      <td>3-6 Yrs</td>\n",
       "    </tr>\n",
       "    <tr>\n",
       "      <th>19</th>\n",
       "      <td>Data Scientist (Diversity Hiring)</td>\n",
       "      <td>Bangalore Rural, Karnataka, Kolkata, West Beng...</td>\n",
       "      <td>Protiviti India</td>\n",
       "      <td>4-8 Yrs</td>\n",
       "    </tr>\n",
       "  </tbody>\n",
       "</table>\n",
       "</div>"
      ],
      "text/plain": [
       "                                                Title  \\\n",
       "0          Data Scientist-Senior Associate - P&T Labs   \n",
       "1                    Senior Data Scientist, Reporting   \n",
       "2                           Data Scientist, Marketing   \n",
       "3                                  Sr. Data Scientist   \n",
       "4                                      Data Scientist   \n",
       "5                                   AI Data Scientist   \n",
       "6                                GenAI Data Scientist   \n",
       "7                                 Data Scientist HTHD   \n",
       "8                                  Data Scientist III   \n",
       "9   Xoriant is hiring Senior Generative AI Engineer !   \n",
       "10                                     Data Scientist   \n",
       "11                 Data Scientist (Analytic Engineer)   \n",
       "12                                     Data Scientist   \n",
       "13                Data Scientist @ Nttdata, Bangalore   \n",
       "14                                Lead Data Scientist   \n",
       "15                                    Data Scientist-   \n",
       "16                                     Data Scientist   \n",
       "17         NLP Data Scientist - Real World Data (RWD)   \n",
       "18                        Data Analytics-Corporate HR   \n",
       "19                  Data Scientist (Diversity Hiring)   \n",
       "\n",
       "                                             Location  \\\n",
       "0                        Mumbai, Hyderabad, Bengaluru   \n",
       "1   Bangalore/Bengaluru, Kolkata, Mumbai, New Delh...   \n",
       "2   Bangalore/Bengaluru, Kolkata, Mumbai, New Delh...   \n",
       "3                                           Bengaluru   \n",
       "4   Kolkata, Mumbai, New Delhi, Hyderabad, Pune, C...   \n",
       "5   Kolkata, Mumbai, New Delhi, Hyderabad, Pune, C...   \n",
       "6   Kolkata, Mumbai, New Delhi, Hyderabad, Pune, C...   \n",
       "7   Kolkata, Mumbai, New Delhi, Hyderabad, Pune, C...   \n",
       "8                                           Bengaluru   \n",
       "9   Hybrid - Bangalore Rural, Karnataka, Pune, Mah...   \n",
       "10                      Hybrid - Bengaluru, Karnataka   \n",
       "11                                          Bengaluru   \n",
       "12                                          Bengaluru   \n",
       "13                         Bangalore Rural, Karnataka   \n",
       "14                                          Bengaluru   \n",
       "15                                          Bengaluru   \n",
       "16  Kolkata, Mumbai, New Delhi, Hyderabad, Pune, C...   \n",
       "17  Bangalore/Bengaluru, Kolkata, Mumbai, New Delh...   \n",
       "18  Bangalore/Bengaluru, Kolkata, Mumbai, New Delh...   \n",
       "19  Bangalore Rural, Karnataka, Kolkata, West Beng...   \n",
       "\n",
       "                   company_name Experience  \n",
       "0   PwC Service Delivery Center    4-6 Yrs  \n",
       "1                      Coursera    6-7 Yrs  \n",
       "2                      Coursera    4-6 Yrs  \n",
       "3                      Visa Inc    0-3 Yrs  \n",
       "4                          Ford    3-6 Yrs  \n",
       "5                          Ford    2-6 Yrs  \n",
       "6                          Ford    5-6 Yrs  \n",
       "7                          Ford    1-4 Yrs  \n",
       "8                       Walmart    1-6 Yrs  \n",
       "9                       Xoriant   5-10 Yrs  \n",
       "10    Acuity Knowledge Partners    4-8 Yrs  \n",
       "11            Applied Materials   7-10 Yrs  \n",
       "12   Johnson and Johnson Kenvue    3-7 Yrs  \n",
       "13  NTT DATA BUSINESS SOLUTIONS    4-6 Yrs  \n",
       "14                 Atkinsréalis    4-8 Yrs  \n",
       "15                     Visa Inc    3-7 Yrs  \n",
       "16         Response Informatics    8-9 Yrs  \n",
       "17     Agilite Global Solutions    7-8 Yrs  \n",
       "18          Tata Communications    3-6 Yrs  \n",
       "19              Protiviti India    4-8 Yrs  "
      ]
     },
     "execution_count": 11,
     "metadata": {},
     "output_type": "execute_result"
    }
   ],
   "source": [
    "import pandas as pd\n",
    "df=pd.DataFrame({'Title':job_title,'Location':job_location,'company_name':company_name,'Experience':experience_required})\n",
    "df"
   ]
  },
  {
   "cell_type": "code",
   "execution_count": 12,
   "id": "4fa48e0c",
   "metadata": {},
   "outputs": [
    {
     "data": {
      "text/plain": [
       "[<selenium.webdriver.remote.webelement.WebElement (session=\"87d5322df85ea862f5a84ca79a9141b8\", element=\"f.2680DAF949DB7BEDB604B21457244861.d.D92670C0FDF0CC558948E6456AB69D3B.e.739\")>,\n",
       " <selenium.webdriver.remote.webelement.WebElement (session=\"87d5322df85ea862f5a84ca79a9141b8\", element=\"f.2680DAF949DB7BEDB604B21457244861.d.D92670C0FDF0CC558948E6456AB69D3B.e.961\")>,\n",
       " <selenium.webdriver.remote.webelement.WebElement (session=\"87d5322df85ea862f5a84ca79a9141b8\", element=\"f.2680DAF949DB7BEDB604B21457244861.d.D92670C0FDF0CC558948E6456AB69D3B.e.970\")>,\n",
       " <selenium.webdriver.remote.webelement.WebElement (session=\"87d5322df85ea862f5a84ca79a9141b8\", element=\"f.2680DAF949DB7BEDB604B21457244861.d.D92670C0FDF0CC558948E6456AB69D3B.e.1525\")>]"
      ]
     },
     "execution_count": 12,
     "metadata": {},
     "output_type": "execute_result"
    }
   ],
   "source": [
    "# To fetch the url\n",
    "url=driver.find_elements(By.XPATH,'//a[@class=\"title \"]')\n",
    "url[0:4]"
   ]
  },
  {
   "cell_type": "code",
   "execution_count": 13,
   "id": "e3894eff",
   "metadata": {},
   "outputs": [
    {
     "name": "stdout",
     "output_type": "stream",
     "text": [
      "https://www.naukri.com/job-listings-data-scientist-senior-associate-p-t-labs-pricewaterhouse-coopers-private-limited-mumbai-hyderabad-bengaluru-4-to-6-years-070324502187\n",
      "https://www.naukri.com/job-listings-senior-data-scientist-reporting-coursera-kolkata-mumbai-new-delhi-hyderabad-secunderabad-pune-chennai-bangalore-bengaluru-6-to-7-years-220124502188\n",
      "https://www.naukri.com/job-listings-data-scientist-marketing-coursera-kolkata-mumbai-new-delhi-hyderabad-secunderabad-pune-chennai-bangalore-bengaluru-4-to-6-years-240124501248\n",
      "None\n"
     ]
    }
   ],
   "source": [
    "for i in url[0:4]:           # Let's provide the range to print only top 4 data\n",
    "    print(i.get_attribute('href'))"
   ]
  },
  {
   "cell_type": "code",
   "execution_count": 14,
   "id": "0d9646af",
   "metadata": {},
   "outputs": [],
   "source": [
    "job_titles=[]"
   ]
  },
  {
   "cell_type": "code",
   "execution_count": 16,
   "id": "bd6bf58f",
   "metadata": {},
   "outputs": [],
   "source": [
    "start=0\n",
    "end=3\n",
    "for page in range(start,end):\n",
    "    titles=driver.find_elements(By.XPATH,'//div[@class=\"cust-job-tuple layout-wrapper lay-2 sjw__tuple \"]/div/a[1]')\n",
    "    \n",
    "    for i in titles:\n",
    "        job_titles.append(i.text)\n",
    "    next_button=driver.find_element(By.XPATH,'/html/body/div/div/main/div[1]/div[2]/div[3]/div/a[2]/span')\n",
    "    next_button.click()\n",
    "    time.sleep(3)"
   ]
  },
  {
   "cell_type": "code",
   "execution_count": 17,
   "id": "2733f1ec",
   "metadata": {},
   "outputs": [
    {
     "data": {
      "text/plain": [
       "80"
      ]
     },
     "execution_count": 17,
     "metadata": {},
     "output_type": "execute_result"
    }
   ],
   "source": [
    "len(job_titles)"
   ]
  },
  {
   "cell_type": "code",
   "execution_count": 18,
   "id": "970f50fd",
   "metadata": {},
   "outputs": [
    {
     "data": {
      "text/plain": [
       "['Data Scientist-Senior Associate - P&T Labs',\n",
       " 'Senior Data Scientist, Reporting',\n",
       " 'Data Scientist, Marketing',\n",
       " 'Sr. Data Scientist',\n",
       " 'Data Scientist',\n",
       " 'AI Data Scientist',\n",
       " 'GenAI Data Scientist',\n",
       " 'Data Scientist HTHD',\n",
       " 'Data Scientist III',\n",
       " 'Xoriant is hiring Senior Generative AI Engineer !',\n",
       " 'Data Scientist',\n",
       " 'Data Scientist (Analytic Engineer)',\n",
       " 'Data Scientist',\n",
       " 'Data Scientist @ Nttdata, Bangalore',\n",
       " 'Lead Data Scientist',\n",
       " 'Data Scientist-',\n",
       " 'Data Scientist',\n",
       " 'NLP Data Scientist - Real World Data (RWD)',\n",
       " 'Data Analytics-Corporate HR',\n",
       " 'Data Scientist (Diversity Hiring)',\n",
       " 'Data Scientist-Senior Associate - P&T Labs',\n",
       " 'Senior Data Scientist, Reporting',\n",
       " 'Data Scientist, Marketing',\n",
       " 'Sr. Data Scientist',\n",
       " 'Data Scientist',\n",
       " 'AI Data Scientist',\n",
       " 'GenAI Data Scientist',\n",
       " 'Data Scientist HTHD',\n",
       " 'Data Scientist III',\n",
       " 'Xoriant is hiring Senior Generative AI Engineer !',\n",
       " 'Data Scientist',\n",
       " 'Data Scientist (Analytic Engineer)',\n",
       " 'Data Scientist',\n",
       " 'Data Scientist @ Nttdata, Bangalore',\n",
       " 'Lead Data Scientist',\n",
       " 'Data Scientist-',\n",
       " 'Data Scientist',\n",
       " 'NLP Data Scientist - Real World Data (RWD)',\n",
       " 'Data Analytics-Corporate HR',\n",
       " 'Data Scientist (Diversity Hiring)',\n",
       " 'Data Scientist',\n",
       " 'Opportunity For Data Science- Gurugram/Kolkata/Bengaluru - 12-9 PM',\n",
       " 'Data Scientist III',\n",
       " 'Sr. Data Scientist - ML Ops',\n",
       " 'Sr Data Scientist',\n",
       " 'Data Scientist',\n",
       " 'Data Scientist',\n",
       " 'Senior Consultant - Data Scientist',\n",
       " 'Senior Data Scientist',\n",
       " 'Senior Data Scientist',\n",
       " 'Data Scientist',\n",
       " 'Senior Data Scientist',\n",
       " 'Data Scientist',\n",
       " 'SAS Data Scientist',\n",
       " 'AI Scientist',\n",
       " 'Data Scientist',\n",
       " 'DS - NLP Expert',\n",
       " 'Generative AI Expert',\n",
       " 'Senior Data Scientist - NLP',\n",
       " 'Senior Data Scientist',\n",
       " 'Data Scientist',\n",
       " 'Staff Data Scientist',\n",
       " 'Staff Data Scientist',\n",
       " 'Senior Data Scientist',\n",
       " 'Principal Data Scientist',\n",
       " 'MACHINE LEARNING / DATA SCIENCE TRAINER',\n",
       " 'Advanced Data Scientist',\n",
       " 'Principal Data Scientist',\n",
       " 'Principal, data scientist',\n",
       " 'Sr . Data Scientist / Manager',\n",
       " 'Data Scientist',\n",
       " 'Data Scientist',\n",
       " 'Data Scientist II',\n",
       " 'Data Scientist',\n",
       " 'SENIOR, DATA SCIENTIST',\n",
       " 'Senior Data Scientist (MLE)',\n",
       " 'Data Scientist',\n",
       " 'Data Scientist',\n",
       " 'Lead Data Scientist',\n",
       " 'Staff Data Scientist']"
      ]
     },
     "execution_count": 18,
     "metadata": {},
     "output_type": "execute_result"
    }
   ],
   "source": [
    "job_titles"
   ]
  }
 ],
 "metadata": {
  "kernelspec": {
   "display_name": "Python 3 (ipykernel)",
   "language": "python",
   "name": "python3"
  },
  "language_info": {
   "codemirror_mode": {
    "name": "ipython",
    "version": 3
   },
   "file_extension": ".py",
   "mimetype": "text/x-python",
   "name": "python",
   "nbconvert_exporter": "python",
   "pygments_lexer": "ipython3",
   "version": "3.11.5"
  }
 },
 "nbformat": 4,
 "nbformat_minor": 5
}
